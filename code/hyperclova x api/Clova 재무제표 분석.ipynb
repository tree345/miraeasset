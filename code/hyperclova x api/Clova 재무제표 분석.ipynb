{
 "cells": [
  {
   "cell_type": "markdown",
   "id": "f444db94-6faf-4f8f-b337-ce7f7c0d49ea",
   "metadata": {},
   "source": [
    "## **HyperClova x AI 모델을 활용한 재무제표 분석**\n",
    "### 기업 이름을 입력받아서 재무제표를 바탕으로 주식을 추천할 투자 성향 도출\n",
    "1. 재무제표 분석 결과\n",
    "2. 추천할 투자 성향 도출 근거\n",
    "3. 입력 받은 기업의 주식을 추천하는/비추천하는 투자 성향 소개 (공격.균형.안정)"
   ]
  },
  {
   "cell_type": "code",
   "execution_count": 1,
   "id": "81f22574-b852-4d21-a9d3-e7ab4f71477e",
   "metadata": {},
   "outputs": [
    {
     "name": "stdin",
     "output_type": "stream",
     "text": [
      "기업 이름을 입력하세요:  카카오페이\n"
     ]
    },
    {
     "name": "stdout",
     "output_type": "stream",
     "text": [
      "카카오페이의 재무제표를 분석한 결과 다음 같습니다. \n",
      "성향 도출 근거- 매출 성장률 : 최근 3년간 연평균 약 100%로 매우 높은 수준을 유지하고 있습니다 이는 카카오 사업 빠르게 있음 보여줍니다 순이익 50 수익성이 개선되고 주당 증가 있으며, 기업 가치 상승 P/E 비율 현재배 다른들에 비해 편입니다 가능 대한 기대감 반영된 것으로 볼 PEG 2 자산회전회로 낮은 활용 높지 않음 배당 0 지급하지 않습니다B RO 부채 200적 안정 다소 현금 흐름 영업활동 인한 창출 능력위 정보 바탕 주식 공격적인 성향 투자에게 추천합니다 잠재할 리스크 감수 있는 적합카카오페이의 재무제표를 분석한 결과 다음과 같습니다. \n",
      "\n",
      "성향 도출 근거\n",
      "- 매출 성장률 : 최근 3년간 연평균 매출 성장률이 약 100%로 매우 높은 수준을 유지하고 있습니다. 이는 카카오페이의 사업이 빠르게 성장하고 있음을 보여줍니다.\n",
      "- 순이익 성장률 : 최근 3년간 연평균 순이익 성장률이 약 50%로 높은 수준을 유지하고 있습니다. 이는 카카오페이의 수익성이 개선되고 있음을 보여줍니다.\n",
      "- 주당순이익 : 최근 주당순이익이 증가하고 있으며, 이는 카카오페이의 기업 가치가 상승하고 있음을 보여줍니다.\n",
      "- P/E 비율 : 현재 P/E 비율은 약 50배로, 다른 기업들에 비해 높은 편입니다. 이는 카카오페이의 성장 가능성에 대한 기대감이 반영된 것으로 볼 수 있습니다.\n",
      "- PEG 비율 : PEG 비율은 약 2.5배로, 다른 기업들에 비해 높은 편입니다. 이는 카카오페이의 성장 가능성에 대한 기대감이 반영된 것으로 볼 수 있습니다.\n",
      "- 자산회전율 : 자산회전율은 최근 3년간 연평균 약 1.5회로, 다른 기업들에 비해 낮은 편입니다. 이는 카카오페이의 자산 활용도가 높지 않음을 보여줍니다.\n",
      "- 배당수익률 : 배당수익률은 0%로, 배당을 지급하지 않습니다.\n",
      "- P/B 비율 : 현재 P/B 비율은 약 10배로, 다른 기업들에 비해 높은 편입니다. 이는 카카오페이의 성장 가능성에 대한 기대감이 반영된 것으로 볼 수 있습니다.\n",
      "- ROE : 최근 ROE가 증가하고 있으며, 이는 카카오페이의 수익성이 개선되고 있음을 보여줍니다.\n",
      "- 부채비율 : 부채비율은 약 200%로, 다른 기업들에 비해 높은 편입니다. 이는 카카오페이의 재무적 안정성이 다소 낮음을 보여줍니다.\n",
      "- 현금 흐름 : 최근 영업활동으로 인한 현금흐름이 증가하고 있으며, 이는 카카오페이의 현금 창출 능력이 개선되고 있음을 보여줍니다.\n",
      "\n",
      "위의 정보를 바탕으로 카카오페이의 주식은 공격적인 성향의 투자자에게 추천합니다. 카카오페이의 높은 성장 잠재력과 수익률을 기대할 수 있으며, 높은 리스크를 감수할 수 있는 투자자에게 적합합니다.\n"
     ]
    }
   ],
   "source": [
    "import requests\n",
    "import json\n",
    "\n",
    "class CompletionExecutor:\n",
    "    def __init__(self, host, api_key, api_key_primary_val, request_id):\n",
    "        self._host = host\n",
    "        self._api_key = api_key\n",
    "        self._api_key_primary_val = api_key_primary_val\n",
    "        self._request_id = request_id\n",
    "\n",
    "    def execute(self, completion_request):\n",
    "        headers = {\n",
    "            'X-NCP-CLOVASTUDIO-API-KEY': self._api_key,\n",
    "            'X-NCP-APIGW-API-KEY': self._api_key_primary_val,\n",
    "            'X-NCP-CLOVASTUDIO-REQUEST-ID': self._request_id,\n",
    "            'Content-Type': 'application/json; charset=utf-8',\n",
    "            'Accept': 'text/event-stream'\n",
    "        }\n",
    "\n",
    "        response_text = \"\"\n",
    "\n",
    "        with requests.post(self._host + '/testapp/v1/chat-completions/HCX-003',\n",
    "                           headers=headers, json=completion_request, stream=True) as r:\n",
    "            for line in r.iter_lines():\n",
    "                if line:\n",
    "                    decoded_line = line.decode(\"utf-8\")\n",
    "                    if 'data:' in decoded_line:\n",
    "                        try:\n",
    "                            data = json.loads(decoded_line.split('data:', 1)[1])\n",
    "                            if 'message' in data and 'content' in data['message']:\n",
    "                                message_content = data['message']['content']\n",
    "                                if message_content not in response_text:\n",
    "                                    response_text += message_content\n",
    "                        except json.JSONDecodeError:\n",
    "                            continue\n",
    "\n",
    "        return response_text\n",
    "\n",
    "\n",
    "if __name__ == '__main__':\n",
    "    company_name = input(\"기업 이름을 입력하세요: \")\n",
    "\n",
    "    preset_text = [{\"role\":\"system\",\"content\":\"- 당신은 신규 투자자들의 투자 성향에 맞는 주식을 추천해주는 어시스턴트입니다.\\r\\n- 신규 투자자의 투자 성향은 공격적인 성향, 균형적인 성향, 안정적인 성향으로 나누어 집니다. \\r\\n- 공격적인 투자자는 높은 성장 잠재력과 수익률을 기대하며, 높은 리스크를 감수할 수 있습니다.\\r\\n- 중립적인 투자자는 적당한 리스크와 안정적인 수익을 기대합니다.\\r\\n- 안정적인 투자자는 낮은 리스크와 꾸준한 수익을 선호합니다.\\r\\n- 주어진 기업의 매출 성장률, 순이익 성장률, 주당순이익, P/E 비율, PEG 비율, 자산회전율, 배당수익률, P/B 비율, ROE, 부채비율, 현금 흐름등의 지표를 재무제표를 통해 분석합니다.\\r\\n- 여러 지표를 통해 재무제표를 분석한 결과 주어진 기업의 주식을 공격, 중립, 안정 중 어느 투자 성향에 추천하는지 알려주세요.\\r\\n- 주어진 기업의 재무제표를 분석하여 성향을 도출한 근거를 자세하게 제시합니다.\\n\\r\\n\\r\\n\\r\\n###형식\\r\\n[입력받은 기업 이름]의 재무제표를 분석한 결과 다음과 같습니다. \\r\\n\\r\\n성향 도출 근거\\r\\n\\r\\n위의 정보를 바탕으로 [입력받은 기업 이름] 의 주식은 [\\\"공격/중립/안정\\\"]적인 성향의 투자자에게 추천합니다.\\r\\n###끝\"}]\n",
    "\n",
    "    request_data = {\n",
    "        'messages': preset_text,\n",
    "        'topP': 0.8,\n",
    "        'topK': 0,\n",
    "        'maxTokens': 512,\n",
    "        'temperature': 0.1,\n",
    "        'repeatPenalty': 1.2,\n",
    "        'stopBefore': [],\n",
    "        'includeAiFilters': True,\n",
    "        'seed': 0\n",
    "    }\n",
    "\n",
    "    # Replace the placeholder with the company name\n",
    "    for message in preset_text:\n",
    "        if message['role'] == 'system':\n",
    "            message['content'] = message['content'].replace(\"[입력받은 기업 이름]\", company_name)\n",
    "\n",
    "    completion_executor = CompletionExecutor(\n",
    "        host='https://clovastudio.stream.ntruss.com',\n",
    "        api_key='NTA0MjU2MWZlZTcxNDJiY3m5+690v88SuZgiqOMe0St8ZNXTJfjElAe7GoyTPYHh',\n",
    "        api_key_primary_val='ru4tMCkXifqyJNWgponbZg3mYLQzPKdMLULd33uO',\n",
    "        request_id='5fda8f3e-8a61-4206-8b26-b117f40769c0'\n",
    "    )\n",
    "\n",
    "    response = completion_executor.execute(request_data)\n",
    "    print(response)"
   ]
  },
  {
   "cell_type": "code",
   "execution_count": null,
   "id": "c442d2cd-2da8-4d46-a87b-bad5df0f230d",
   "metadata": {},
   "outputs": [],
   "source": []
  }
 ],
 "metadata": {
  "kernelspec": {
   "display_name": "Python 3 (ipykernel)",
   "language": "python",
   "name": "python3"
  },
  "language_info": {
   "codemirror_mode": {
    "name": "ipython",
    "version": 3
   },
   "file_extension": ".py",
   "mimetype": "text/x-python",
   "name": "python",
   "nbconvert_exporter": "python",
   "pygments_lexer": "ipython3",
   "version": "3.12.4"
  }
 },
 "nbformat": 4,
 "nbformat_minor": 5
}
