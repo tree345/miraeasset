{
 "cells": [
  {
   "cell_type": "code",
   "execution_count": 1,
   "metadata": {},
   "outputs": [],
   "source": [
    "import pandas as pd\n",
    "from datetime import datetime, timedelta\n",
    "import time\n",
    "from selenium import webdriver\n",
    "from bs4 import BeautifulSoup\n",
    "import re"
   ]
  },
  {
   "cell_type": "code",
   "execution_count": 2,
   "metadata": {},
   "outputs": [
    {
     "ename": "WebDriverException",
     "evalue": "Message: disconnected: not connected to DevTools\n  (failed to check if window was closed: disconnected: not connected to DevTools)\n  (Session info: chrome=126.0.6478.185)\nStacktrace:\n0   chromedriver                        0x0000000104832a0c chromedriver + 4385292\n1   chromedriver                        0x000000010482b318 chromedriver + 4354840\n2   chromedriver                        0x0000000104448b0c chromedriver + 281356\n3   chromedriver                        0x000000010443215c chromedriver + 188764\n4   chromedriver                        0x0000000104432098 chromedriver + 188568\n5   chromedriver                        0x00000001044c3454 chromedriver + 783444\n6   chromedriver                        0x000000010447feec chromedriver + 507628\n7   chromedriver                        0x00000001044808c4 chromedriver + 510148\n8   chromedriver                        0x00000001047fa3c8 chromedriver + 4154312\n9   chromedriver                        0x00000001047fee2c chromedriver + 4173356\n10  chromedriver                        0x00000001047dff84 chromedriver + 4046724\n11  chromedriver                        0x00000001047ff718 chromedriver + 4175640\n12  chromedriver                        0x00000001047d2f44 chromedriver + 3993412\n13  chromedriver                        0x000000010481d1a8 chromedriver + 4297128\n14  chromedriver                        0x000000010481d324 chromedriver + 4297508\n15  chromedriver                        0x000000010482af10 chromedriver + 4353808\n16  libsystem_pthread.dylib             0x0000000199ccaf94 _pthread_start + 136\n17  libsystem_pthread.dylib             0x0000000199cc5d34 thread_start + 8\n",
     "output_type": "error",
     "traceback": [
      "\u001b[0;31m---------------------------------------------------------------------------\u001b[0m",
      "\u001b[0;31mWebDriverException\u001b[0m                        Traceback (most recent call last)",
      "Cell \u001b[0;32mIn[2], line 63\u001b[0m\n\u001b[1;32m     61\u001b[0m \u001b[38;5;66;03m# 스크롤 다운을 100번 반복하여 데이터 가져오기 - 달 별로 1000개 \u001b[39;00m\n\u001b[1;32m     62\u001b[0m \u001b[38;5;28;01mfor\u001b[39;00m i \u001b[38;5;129;01min\u001b[39;00m \u001b[38;5;28mrange\u001b[39m(\u001b[38;5;241m100\u001b[39m): \n\u001b[0;32m---> 63\u001b[0m     \u001b[43mscroll_down\u001b[49m\u001b[43m(\u001b[49m\u001b[43mdriver\u001b[49m\u001b[43m)\u001b[49m\n\u001b[1;32m     65\u001b[0m \u001b[38;5;66;03m# 스크롤 다운이 완료된 후 데이터 가져오기\u001b[39;00m\n\u001b[1;32m     66\u001b[0m news_info \u001b[38;5;241m=\u001b[39m get_news_info(driver, query)\n",
      "Cell \u001b[0;32mIn[2], line 3\u001b[0m, in \u001b[0;36mscroll_down\u001b[0;34m(driver)\u001b[0m\n\u001b[1;32m      1\u001b[0m \u001b[38;5;28;01mdef\u001b[39;00m \u001b[38;5;21mscroll_down\u001b[39m(driver):\n\u001b[1;32m      2\u001b[0m     \u001b[38;5;66;03m# 페이지 맨 아래로 스크롤\u001b[39;00m\n\u001b[0;32m----> 3\u001b[0m     \u001b[43mdriver\u001b[49m\u001b[38;5;241;43m.\u001b[39;49m\u001b[43mexecute_script\u001b[49m\u001b[43m(\u001b[49m\u001b[38;5;124;43m\"\u001b[39;49m\u001b[38;5;124;43mwindow.scrollTo(0, document.body.scrollHeight);\u001b[39;49m\u001b[38;5;124;43m\"\u001b[39;49m\u001b[43m)\u001b[49m\n\u001b[1;32m      4\u001b[0m     time\u001b[38;5;241m.\u001b[39msleep(\u001b[38;5;241m7\u001b[39m)\n",
      "File \u001b[0;32m/opt/miniconda3/envs/b.a.f/lib/python3.9/site-packages/selenium/webdriver/remote/webdriver.py:407\u001b[0m, in \u001b[0;36mWebDriver.execute_script\u001b[0;34m(self, script, *args)\u001b[0m\n\u001b[1;32m    404\u001b[0m converted_args \u001b[38;5;241m=\u001b[39m \u001b[38;5;28mlist\u001b[39m(args)\n\u001b[1;32m    405\u001b[0m command \u001b[38;5;241m=\u001b[39m Command\u001b[38;5;241m.\u001b[39mW3C_EXECUTE_SCRIPT\n\u001b[0;32m--> 407\u001b[0m \u001b[38;5;28;01mreturn\u001b[39;00m \u001b[38;5;28;43mself\u001b[39;49m\u001b[38;5;241;43m.\u001b[39;49m\u001b[43mexecute\u001b[49m\u001b[43m(\u001b[49m\u001b[43mcommand\u001b[49m\u001b[43m,\u001b[49m\u001b[43m \u001b[49m\u001b[43m{\u001b[49m\u001b[38;5;124;43m\"\u001b[39;49m\u001b[38;5;124;43mscript\u001b[39;49m\u001b[38;5;124;43m\"\u001b[39;49m\u001b[43m:\u001b[49m\u001b[43m \u001b[49m\u001b[43mscript\u001b[49m\u001b[43m,\u001b[49m\u001b[43m \u001b[49m\u001b[38;5;124;43m\"\u001b[39;49m\u001b[38;5;124;43margs\u001b[39;49m\u001b[38;5;124;43m\"\u001b[39;49m\u001b[43m:\u001b[49m\u001b[43m \u001b[49m\u001b[43mconverted_args\u001b[49m\u001b[43m}\u001b[49m\u001b[43m)\u001b[49m[\u001b[38;5;124m\"\u001b[39m\u001b[38;5;124mvalue\u001b[39m\u001b[38;5;124m\"\u001b[39m]\n",
      "File \u001b[0;32m/opt/miniconda3/envs/b.a.f/lib/python3.9/site-packages/selenium/webdriver/remote/webdriver.py:347\u001b[0m, in \u001b[0;36mWebDriver.execute\u001b[0;34m(self, driver_command, params)\u001b[0m\n\u001b[1;32m    345\u001b[0m response \u001b[38;5;241m=\u001b[39m \u001b[38;5;28mself\u001b[39m\u001b[38;5;241m.\u001b[39mcommand_executor\u001b[38;5;241m.\u001b[39mexecute(driver_command, params)\n\u001b[1;32m    346\u001b[0m \u001b[38;5;28;01mif\u001b[39;00m response:\n\u001b[0;32m--> 347\u001b[0m     \u001b[38;5;28;43mself\u001b[39;49m\u001b[38;5;241;43m.\u001b[39;49m\u001b[43merror_handler\u001b[49m\u001b[38;5;241;43m.\u001b[39;49m\u001b[43mcheck_response\u001b[49m\u001b[43m(\u001b[49m\u001b[43mresponse\u001b[49m\u001b[43m)\u001b[49m\n\u001b[1;32m    348\u001b[0m     response[\u001b[38;5;124m\"\u001b[39m\u001b[38;5;124mvalue\u001b[39m\u001b[38;5;124m\"\u001b[39m] \u001b[38;5;241m=\u001b[39m \u001b[38;5;28mself\u001b[39m\u001b[38;5;241m.\u001b[39m_unwrap_value(response\u001b[38;5;241m.\u001b[39mget(\u001b[38;5;124m\"\u001b[39m\u001b[38;5;124mvalue\u001b[39m\u001b[38;5;124m\"\u001b[39m, \u001b[38;5;28;01mNone\u001b[39;00m))\n\u001b[1;32m    349\u001b[0m     \u001b[38;5;28;01mreturn\u001b[39;00m response\n",
      "File \u001b[0;32m/opt/miniconda3/envs/b.a.f/lib/python3.9/site-packages/selenium/webdriver/remote/errorhandler.py:229\u001b[0m, in \u001b[0;36mErrorHandler.check_response\u001b[0;34m(self, response)\u001b[0m\n\u001b[1;32m    227\u001b[0m         alert_text \u001b[38;5;241m=\u001b[39m value[\u001b[38;5;124m\"\u001b[39m\u001b[38;5;124malert\u001b[39m\u001b[38;5;124m\"\u001b[39m]\u001b[38;5;241m.\u001b[39mget(\u001b[38;5;124m\"\u001b[39m\u001b[38;5;124mtext\u001b[39m\u001b[38;5;124m\"\u001b[39m)\n\u001b[1;32m    228\u001b[0m     \u001b[38;5;28;01mraise\u001b[39;00m exception_class(message, screen, stacktrace, alert_text)  \u001b[38;5;66;03m# type: ignore[call-arg]  # mypy is not smart enough here\u001b[39;00m\n\u001b[0;32m--> 229\u001b[0m \u001b[38;5;28;01mraise\u001b[39;00m exception_class(message, screen, stacktrace)\n",
      "\u001b[0;31mWebDriverException\u001b[0m: Message: disconnected: not connected to DevTools\n  (failed to check if window was closed: disconnected: not connected to DevTools)\n  (Session info: chrome=126.0.6478.185)\nStacktrace:\n0   chromedriver                        0x0000000104832a0c chromedriver + 4385292\n1   chromedriver                        0x000000010482b318 chromedriver + 4354840\n2   chromedriver                        0x0000000104448b0c chromedriver + 281356\n3   chromedriver                        0x000000010443215c chromedriver + 188764\n4   chromedriver                        0x0000000104432098 chromedriver + 188568\n5   chromedriver                        0x00000001044c3454 chromedriver + 783444\n6   chromedriver                        0x000000010447feec chromedriver + 507628\n7   chromedriver                        0x00000001044808c4 chromedriver + 510148\n8   chromedriver                        0x00000001047fa3c8 chromedriver + 4154312\n9   chromedriver                        0x00000001047fee2c chromedriver + 4173356\n10  chromedriver                        0x00000001047dff84 chromedriver + 4046724\n11  chromedriver                        0x00000001047ff718 chromedriver + 4175640\n12  chromedriver                        0x00000001047d2f44 chromedriver + 3993412\n13  chromedriver                        0x000000010481d1a8 chromedriver + 4297128\n14  chromedriver                        0x000000010481d324 chromedriver + 4297508\n15  chromedriver                        0x000000010482af10 chromedriver + 4353808\n16  libsystem_pthread.dylib             0x0000000199ccaf94 _pthread_start + 136\n17  libsystem_pthread.dylib             0x0000000199cc5d34 thread_start + 8\n"
     ]
    }
   ],
   "source": [
    "def scroll_down(driver):\n",
    "    # 페이지 맨 아래로 스크롤\n",
    "    driver.execute_script(\"window.scrollTo(0, document.body.scrollHeight);\")\n",
    "    time.sleep(7)  # 스크롤 후 잠시 대기\n",
    "\n",
    "def get_news_info(driver, query):\n",
    "    # 기사 정보 추출\n",
    "    soup = BeautifulSoup(driver.page_source, 'html.parser')\n",
    "    news_items = soup.find_all('div', class_='news_area')\n",
    "    \n",
    "    news_info = []\n",
    "    for item in news_items:\n",
    "        # 기사 제목 추출\n",
    "        title_elem = item.find('a', class_='news_tit')\n",
    "        title = title_elem.text.strip() if title_elem else None\n",
    "        \n",
    "        # 제목에 검색어가 포함되어 있지 않은 경우 크롤링하지 않음\n",
    "        if not title or query not in title:\n",
    "            continue\n",
    "\n",
    "        # 기사 날짜 추출\n",
    "        date_elems = item.find_all('span', class_='info')\n",
    "        date = None\n",
    "        for date_elem in date_elems:\n",
    "            if date_elem.find('i', class_='spnew ico_paper'):\n",
    "                continue  # i 태그가 있는 경우 건너뛰기\n",
    "            # 날짜 형식에 맞는 텍스트 확인\n",
    "            if re.match(r'\\d{4}\\.\\d{2}\\.\\d{2}', date_elem.text.strip()):\n",
    "                date = date_elem.text.strip()\n",
    "                break\n",
    "        \n",
    "        if date:\n",
    "            news_info.append({'제목': title, '날짜': date})\n",
    "    \n",
    "    return news_info\n",
    "\n",
    "# 검색어 입력\n",
    "query = input(\"뉴스 검색어를 입력하세요: \")\n",
    "\n",
    "# 날짜 설정\n",
    "start_date = datetime(2021, 6, 1)\n",
    "end_date = datetime(2024, 5, 31)\n",
    "\n",
    "# WebDriver로 Chrome 브라우저 열기\n",
    "driver = webdriver.Chrome()\n",
    "\n",
    "# 빈 리스트 생성\n",
    "data = []\n",
    "\n",
    "# 각 달마다 검색 수행\n",
    "current_date = start_date\n",
    "while current_date <= end_date:\n",
    "    # 현재 달의 시작일과 종료일 계산\n",
    "    next_month = current_date + timedelta(days=31)\n",
    "    next_month = next_month.replace(day=1)  # 다음 달의 1일로 설정\n",
    "    end_of_month = next_month - timedelta(days=1)  # 다음 달의 마지막 날짜로 설정\n",
    "    \n",
    "    # 네이버 뉴스 검색 페이지로 이동\n",
    "    driver.get(f\"https://search.naver.com/search.naver?where=news&query={query}&sm=tab_opt&sort=0&photo=0&field=0&pd=3&ds={current_date.strftime('%Y.%m.%d')}&de={end_of_month.strftime('%Y.%m.%d')}\")\n",
    "    \n",
    "    # 스크롤 다운을 100번 반복하여 데이터 가져오기 - 달 별로 1000개 \n",
    "    for i in range(100): \n",
    "        scroll_down(driver)\n",
    "        \n",
    "    # 스크롤 다운이 완료된 후 데이터 가져오기\n",
    "    news_info = get_news_info(driver, query)\n",
    "    data.extend(news_info)\n",
    "    \n",
    "    # 다음 달로 이동\n",
    "    current_date = next_month\n",
    "\n",
    "# 브라우저 닫기\n",
    "driver.quit()\n",
    "\n",
    "# 데이터프레임 생성\n",
    "df = pd.DataFrame(data)\n",
    "\n",
    "# '제목' 열에서 중복 제거\n",
    "df = df.drop_duplicates(subset='제목').reset_index(drop=True)\n",
    "\n",
    "# 데이터프레임 출력\n",
    "print(df)"
   ]
  },
  {
   "cell_type": "code",
   "execution_count": null,
   "metadata": {},
   "outputs": [],
   "source": [
    "df.to_csv('./dataset/sk_new.csv', index=False)"
   ]
  },
  {
   "cell_type": "code",
   "execution_count": null,
   "metadata": {},
   "outputs": [],
   "source": []
  }
 ],
 "metadata": {
  "kernelspec": {
   "display_name": "b.a.f",
   "language": "python",
   "name": "python3"
  },
  "language_info": {
   "codemirror_mode": {
    "name": "ipython",
    "version": 3
   },
   "file_extension": ".py",
   "mimetype": "text/x-python",
   "name": "python",
   "nbconvert_exporter": "python",
   "pygments_lexer": "ipython3",
   "version": "3.9.19"
  }
 },
 "nbformat": 4,
 "nbformat_minor": 2
}
