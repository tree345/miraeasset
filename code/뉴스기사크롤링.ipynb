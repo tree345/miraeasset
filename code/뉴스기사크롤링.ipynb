{
 "cells": [
  {
   "cell_type": "code",
   "execution_count": 1,
   "metadata": {},
   "outputs": [],
   "source": [
    "import pandas as pd\n",
    "from datetime import datetime, timedelta\n",
    "import time\n",
    "from selenium import webdriver\n",
    "from bs4 import BeautifulSoup\n",
    "import re"
   ]
  },
  {
   "cell_type": "code",
   "execution_count": 2,
   "metadata": {},
   "outputs": [
    {
     "name": "stdout",
     "output_type": "stream",
     "text": [
      "                                                     제목           날짜\n",
      "0                                  삼성생명, '뉴 올인원 암보험' 출시  2019.03.31.\n",
      "1                                삼성생명 너마저… 시총 꺼지는 '보험주'  2019.03.30.\n",
      "2                        윤석헌 금감원장, 삼성생명 즉시연금에 \"가입했을수도…\"  2019.03.27.\n",
      "3                      금감원장 \"종합검사 대상에 삼성생명 포함, 보복검사 없어\"  2019.03.27.\n",
      "4                                삼성생명 금감원 종합검사 올 하반기 가닥  2019.03.29.\n",
      "...                                                 ...          ...\n",
      "20153               삼성생명서비스노동조합 사무실 개소…문성현, 노사관계 청사진 제시  2024.01.09.\n",
      "20154   [경기 전] 임근배 삼성생명 감독, \"키아나 스미스가 선발로 나선다\" … 구나단...  2024.01.15.\n",
      "20155      [더벨][CFO Change]삼성카드 CFO에 삼성생명 출신 김태선 부사장 선임  2024.01.03.\n",
      "20156   “자신감 많이 찾아”…항저우 AG 통해 부쩍 성장한 삼성생명 이해란, 2024년...  2024.01.01.\n",
      "20157  [24W올스타전] 올스타전 첫 출전한 삼성생명 이주연, \"(임근배) 감독님과 함께...  2024.01.06.\n",
      "\n",
      "[20158 rows x 2 columns]\n"
     ]
    }
   ],
   "source": [
    "def scroll_down(driver):\n",
    "    # 페이지 맨 아래로 스크롤\n",
    "    driver.execute_script(\"window.scrollTo(0, document.body.scrollHeight);\")\n",
    "    time.sleep(5)  # 스크롤 후 잠시 대기\n",
    "\n",
    "def get_news_info(driver, query):\n",
    "    # 기사 정보 추출\n",
    "    soup = BeautifulSoup(driver.page_source, 'html.parser')\n",
    "    news_items = soup.find_all('div', class_='news_area')\n",
    "    \n",
    "    news_info = []\n",
    "    for item in news_items:\n",
    "        # 기사 제목 추출\n",
    "        title_elem = item.find('a', class_='news_tit')\n",
    "        title = title_elem.text.strip() if title_elem else None\n",
    "        \n",
    "        # 제목에 검색어가 포함되어 있지 않은 경우 크롤링하지 않음\n",
    "        if not title or query not in title:\n",
    "            continue\n",
    "\n",
    "        # 기사 날짜 추출\n",
    "        date_elems = item.find_all('span', class_='info')\n",
    "        date = None\n",
    "        for date_elem in date_elems:\n",
    "            if date_elem.find('i', class_='spnew ico_paper'):\n",
    "                continue  # i 태그가 있는 경우 건너뛰기\n",
    "            # 날짜 형식에 맞는 텍스트 확인\n",
    "            if re.match(r'\\d{4}\\.\\d{2}\\.\\d{2}', date_elem.text.strip()):\n",
    "                date = date_elem.text.strip()\n",
    "                break\n",
    "        \n",
    "        if date:\n",
    "            news_info.append({'제목': title, '날짜': date})\n",
    "    \n",
    "    return news_info\n",
    "\n",
    "# 검색어 입력\n",
    "query = input(\"뉴스 검색어를 입력하세요: \")\n",
    "\n",
    "# 날짜 설정\n",
    "start_date = datetime(2021, 6, 1)\n",
    "end_date = datetime(2024, 5, 31)\n",
    "\n",
    "# WebDriver로 Chrome 브라우저 열기\n",
    "driver = webdriver.Chrome()\n",
    "\n",
    "# 빈 리스트 생성\n",
    "data = []\n",
    "\n",
    "# 각 달마다 검색 수행\n",
    "current_date = start_date\n",
    "while current_date <= end_date:\n",
    "    # 현재 달의 시작일과 종료일 계산\n",
    "    next_month = current_date + timedelta(days=31)\n",
    "    next_month = next_month.replace(day=1)  # 다음 달의 1일로 설정\n",
    "    end_of_month = next_month - timedelta(days=1)  # 다음 달의 마지막 날짜로 설정\n",
    "    \n",
    "    # 네이버 뉴스 검색 페이지로 이동\n",
    "    driver.get(f\"https://search.naver.com/search.naver?where=news&query={query}&sm=tab_opt&sort=0&photo=0&field=0&pd=3&ds={current_date.strftime('%Y.%m.%d')}&de={end_of_month.strftime('%Y.%m.%d')}\")\n",
    "    \n",
    "    # 스크롤 다운을 100번 반복하여 데이터 가져오기 - 달 별로 1000개 \n",
    "    for i in range(100): \n",
    "        scroll_down(driver)\n",
    "        \n",
    "    # 스크롤 다운이 완료된 후 데이터 가져오기\n",
    "    news_info = get_news_info(driver, query)\n",
    "    data.extend(news_info)\n",
    "    \n",
    "    # 다음 달로 이동\n",
    "    current_date = next_month\n",
    "\n",
    "# 브라우저 닫기\n",
    "driver.quit()\n",
    "\n",
    "# 데이터프레임 생성\n",
    "df = pd.DataFrame(data)\n",
    "\n",
    "# '제목' 열에서 중복 제거\n",
    "df = df.drop_duplicates(subset='제목').reset_index(drop=True)\n",
    "\n",
    "# 데이터프레임 출력\n",
    "print(df)"
   ]
  },
  {
   "cell_type": "code",
   "execution_count": 3,
   "metadata": {},
   "outputs": [],
   "source": [
    "df.to_csv('./baf/삼성생명.csv', index=False)"
   ]
  }
 ],
 "metadata": {
  "kernelspec": {
   "display_name": "b.a.f",
   "language": "python",
   "name": "python3"
  },
  "language_info": {
   "codemirror_mode": {
    "name": "ipython",
    "version": 3
   },
   "file_extension": ".py",
   "mimetype": "text/x-python",
   "name": "python",
   "nbconvert_exporter": "python",
   "pygments_lexer": "ipython3",
   "version": "3.9.19"
  }
 },
 "nbformat": 4,
 "nbformat_minor": 2
}
